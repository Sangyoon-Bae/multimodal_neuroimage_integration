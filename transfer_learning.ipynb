{
 "cells": [
  {
   "cell_type": "code",
   "execution_count": 82,
   "id": "speaking-bleeding",
   "metadata": {},
   "outputs": [],
   "source": [
    "import numpy as np\n",
    "import pandas as pd\n",
    "\n",
    "from sklearn.model_selection import train_test_split\n",
    "import matplotlib.pyplot as plt\n",
    "\n",
    "import torch\n",
    "import torch.nn as nn\n",
    "import torch.nn.functional as F\n",
    "from torch.utils.data import Dataset, DataLoader\n",
    "\n",
    "import torchvision\n",
    "import torchvision.transforms as transforms\n",
    "from torchvision.utils import make_grid"
   ]
  },
  {
   "cell_type": "code",
   "execution_count": 83,
   "id": "acceptable-auditor",
   "metadata": {},
   "outputs": [],
   "source": [
    "BATCH_SIZE = 32\n",
    "HIDDEN_SIZE = 256\n",
    "LOAD_MODEL = True\n",
    "USE_TRANSFER_LEARNING = True"
   ]
  },
  {
   "cell_type": "code",
   "execution_count": 84,
   "id": "deluxe-polls",
   "metadata": {},
   "outputs": [],
   "source": [
    "class Graph2VecEmbeddingsDataset(Dataset):\n",
    "    \"\"\"Graph2Vec Embeddings dataset.\"\"\"\n",
    "\n",
    "    def __init__(self, embeddings, labels=None, transform=None):\n",
    "        \"\"\"\n",
    "        Args:\n",
    "            embeddings (pd.dataframe): Pandas Dataframe with the graph2vec embeddings\n",
    "            labels : Labels indicating intelligence for the respective individual\n",
    "            transform (callable, optional): Optional transform to be applied\n",
    "                on a sample.\n",
    "        \"\"\"\n",
    "        self.embeddings = embeddings\n",
    "        self.labels = labels\n",
    "        self.transform = transforms.Compose([transforms.ToTensor()])\n",
    "\n",
    "    def __len__(self):\n",
    "        return len(self.embeddings)\n",
    "\n",
    "    def __getitem__(self, idx):\n",
    "\n",
    "        sample = torch.tensor(self.embeddings.iloc[idx]).float()\n",
    "\n",
    "        if self.labels is not None:\n",
    "            return sample, torch.tensor(self.labels.iloc[idx]).float()\n",
    "        else:\n",
    "            return sample"
   ]
  },
  {
   "cell_type": "code",
   "execution_count": 85,
   "id": "painted-legislation",
   "metadata": {},
   "outputs": [],
   "source": [
    "class MLP(nn.Module):\n",
    "    def __init__(self, input_size, hidden_size):\n",
    "        super(MLP, self).__init__()\n",
    "        \n",
    "        def init_weights(m):\n",
    "            if isinstance(m, nn.Linear):\n",
    "                torch.nn.init.xavier_uniform_(m.weight)\n",
    "                m.bias.data.fill_(0.01)\n",
    "        \n",
    "        \n",
    "        self.layers = nn.Sequential(\n",
    "            nn.Linear(input_size, hidden_size),\n",
    "            nn.BatchNorm1d(hidden_size),\n",
    "            nn.ReLU(),\n",
    "            nn.Dropout(0.5),\n",
    "            nn.Linear(hidden_size, hidden_size),\n",
    "            nn.BatchNorm1d(hidden_size),\n",
    "            nn.ReLU(),\n",
    "            nn.Dropout(0.5),\n",
    "            nn.Linear(hidden_size, hidden_size),\n",
    "            nn.BatchNorm1d(hidden_size),\n",
    "            nn.ReLU(),\n",
    "            nn.Dropout(0.5),\n",
    "            nn.Linear(hidden_size, 1)\n",
    "        )\n",
    "        \n",
    "        self.layers.apply(init_weights)\n",
    "        \n",
    "    def forward(self, x):\n",
    "        x = self.layers(x)\n",
    "        return x"
   ]
  },
  {
   "cell_type": "code",
   "execution_count": 93,
   "id": "private-liquid",
   "metadata": {},
   "outputs": [],
   "source": [
    "PATH = './models/func_graph2vec_MLP_with_dropout_555'"
   ]
  },
  {
   "cell_type": "code",
   "execution_count": 94,
   "id": "damaged-religious",
   "metadata": {},
   "outputs": [
    {
     "data": {
      "text/plain": [
       "MLP(\n",
       "  (layers): Sequential(\n",
       "    (0): Linear(in_features=128, out_features=256, bias=True)\n",
       "    (1): BatchNorm1d(256, eps=1e-05, momentum=0.1, affine=True, track_running_stats=True)\n",
       "    (2): ReLU()\n",
       "    (3): Dropout(p=0.5, inplace=False)\n",
       "    (4): Linear(in_features=256, out_features=256, bias=True)\n",
       "    (5): BatchNorm1d(256, eps=1e-05, momentum=0.1, affine=True, track_running_stats=True)\n",
       "    (6): ReLU()\n",
       "    (7): Dropout(p=0.5, inplace=False)\n",
       "    (8): Linear(in_features=256, out_features=256, bias=True)\n",
       "    (9): BatchNorm1d(256, eps=1e-05, momentum=0.1, affine=True, track_running_stats=True)\n",
       "    (10): ReLU()\n",
       "    (11): Dropout(p=0.5, inplace=False)\n",
       "    (12): Linear(in_features=256, out_features=1, bias=True)\n",
       "  )\n",
       ")"
      ]
     },
     "execution_count": 94,
     "metadata": {},
     "output_type": "execute_result"
    }
   ],
   "source": [
    "model = MLP(128, 256)\n",
    "model.load_state_dict(torch.load(PATH))\n",
    "model.eval()"
   ]
  },
  {
   "cell_type": "code",
   "execution_count": 45,
   "id": "innocent-traffic",
   "metadata": {},
   "outputs": [],
   "source": [
    "raw_y = pd.read_csv(\"intelligence_label.csv\")\n",
    "data = pd.read_csv(\"features/struct_embedding.csv\")\n",
    "y = []\n",
    "for i in data['type']:\n",
    "    subjid = i.split('/')[-1].split('_')[-1]\n",
    "    for j in range(len(raw_y)):\n",
    "        if subjid == raw_y['subjectkey'][j]:\n",
    "            y.append(raw_y['nihtbx_totalcomp_uncorrected'][j])\n",
    "data['y'] = y\n",
    "data = data.drop(\"type\", axis=1)"
   ]
  },
  {
   "cell_type": "code",
   "execution_count": 46,
   "id": "innovative-assignment",
   "metadata": {},
   "outputs": [],
   "source": [
    "train_df, test_df = np.split(data.sample(frac=1, random_state=42), [int(.9*len(data))])\n",
    "X_train, X_valid, y_train, y_valid = \\\n",
    "    train_test_split(train_df.iloc[:, 1:], train_df['y'], test_size=1/9, random_state=42)\n",
    "y_test = test_df[\"y\"]\n",
    "X_test = test_df.drop(\"y\", axis=1)"
   ]
  },
  {
   "cell_type": "code",
   "execution_count": 47,
   "id": "handmade-salon",
   "metadata": {},
   "outputs": [],
   "source": [
    "train_dataset = Graph2VecEmbeddingsDataset(embeddings=X_train, labels=y_train)\n",
    "valid_dataset = Graph2VecEmbeddingsDataset(embeddings=X_valid, labels=y_valid)\n",
    "test_dataset = Graph2VecEmbeddingsDataset(embeddings=X_test, labels=y_test)"
   ]
  },
  {
   "cell_type": "code",
   "execution_count": 48,
   "id": "previous-conditioning",
   "metadata": {},
   "outputs": [],
   "source": [
    "train_loader = DataLoader(dataset=train_dataset, batch_size=BATCH_SIZE, shuffle=True)\n",
    "valid_loader = DataLoader(dataset=valid_dataset, batch_size=BATCH_SIZE, shuffle=False)\n",
    "test_loader = DataLoader(dataset=test_dataset, batch_size=BATCH_SIZE, shuffle=False)"
   ]
  },
  {
   "cell_type": "code",
   "execution_count": 49,
   "id": "ordered-median",
   "metadata": {},
   "outputs": [
    {
     "name": "stdout",
     "output_type": "stream",
     "text": [
      "embeddings shape on PyTroch :  torch.Size([32, 128])\n",
      "labels shape on PyTroch :  torch.Size([32])\n"
     ]
    }
   ],
   "source": [
    "dataiter = iter(train_loader)\n",
    "embeddings, labels = dataiter.next()\n",
    "\n",
    "print('embeddings shape on PyTroch : ', embeddings.size())\n",
    "print('labels shape on PyTroch : ', labels.size())"
   ]
  },
  {
   "cell_type": "code",
   "execution_count": 50,
   "id": "equivalent-guidance",
   "metadata": {},
   "outputs": [],
   "source": [
    "optimizer = torch.optim.Adam(model.parameters(), lr=0.001)\n",
    "loss_fn = nn.MSELoss() #will calculate RMSE next line"
   ]
  },
  {
   "cell_type": "code",
   "execution_count": 95,
   "id": "adult-story",
   "metadata": {},
   "outputs": [
    {
     "name": "stdout",
     "output_type": "stream",
     "text": [
      "epoch : 1, train loss : 0.2040, valid loss : 0.0468\n",
      "epoch : 2, train loss : 0.2056, valid loss : 0.0715\n",
      "epoch : 3, train loss : 0.1887, valid loss : 0.0819\n",
      "epoch : 4, train loss : 0.2010, valid loss : 0.0902\n",
      "epoch : 5, train loss : 0.1829, valid loss : 0.0902\n",
      "epoch : 6, train loss : 0.1923, valid loss : 0.0439\n",
      "epoch : 7, train loss : 0.2035, valid loss : 0.0519\n",
      "epoch : 8, train loss : 0.2042, valid loss : 0.0545\n",
      "epoch : 9, train loss : 0.1952, valid loss : 0.0255\n",
      "epoch : 10, train loss : 0.1956, valid loss : 0.0459\n",
      "epoch : 11, train loss : 0.2095, valid loss : 0.0656\n",
      "epoch : 12, train loss : 0.1877, valid loss : 0.0559\n",
      "epoch : 13, train loss : 0.1930, valid loss : 0.1399\n",
      "epoch : 14, train loss : 0.1860, valid loss : 0.0675\n",
      "epoch : 15, train loss : 0.1974, valid loss : 0.0656\n",
      "epoch : 16, train loss : 0.2065, valid loss : 0.0817\n",
      "epoch : 17, train loss : 0.2100, valid loss : 0.0352\n",
      "epoch : 18, train loss : 0.2019, valid loss : 0.1028\n",
      "epoch : 19, train loss : 0.1902, valid loss : 0.0569\n",
      "epoch : 20, train loss : 0.2081, valid loss : 0.0922\n",
      "epoch : 21, train loss : 0.1860, valid loss : 0.0707\n",
      "epoch : 22, train loss : 0.1802, valid loss : 0.0772\n",
      "epoch : 23, train loss : 0.1949, valid loss : 0.0651\n",
      "epoch : 24, train loss : 0.2022, valid loss : 0.0407\n",
      "epoch : 25, train loss : 0.1919, valid loss : 0.0586\n",
      "epoch : 26, train loss : 0.1942, valid loss : 0.0568\n",
      "epoch : 27, train loss : 0.2016, valid loss : 0.0458\n",
      "epoch : 28, train loss : 0.1870, valid loss : 0.0237\n",
      "epoch : 29, train loss : 0.2080, valid loss : 0.0878\n",
      "epoch : 30, train loss : 0.2127, valid loss : 0.0629\n",
      "epoch : 31, train loss : 0.1864, valid loss : 0.0811\n",
      "epoch : 32, train loss : 0.1795, valid loss : 0.0584\n",
      "epoch : 33, train loss : 0.2013, valid loss : 0.1058\n",
      "epoch : 34, train loss : 0.1992, valid loss : 0.0431\n",
      "epoch : 35, train loss : 0.1893, valid loss : 0.0967\n",
      "epoch : 36, train loss : 0.1959, valid loss : 0.0478\n",
      "epoch : 37, train loss : 0.1967, valid loss : 0.0542\n",
      "epoch : 38, train loss : 0.2063, valid loss : 0.0887\n",
      "epoch : 39, train loss : 0.2028, valid loss : 0.0430\n",
      "epoch : 40, train loss : 0.2074, valid loss : 0.0940\n",
      "epoch : 41, train loss : 0.2075, valid loss : 0.1697\n",
      "epoch : 42, train loss : 0.1876, valid loss : 0.0582\n",
      "epoch : 43, train loss : 0.1991, valid loss : 0.0883\n",
      "epoch : 44, train loss : 0.1891, valid loss : 0.0816\n",
      "epoch : 45, train loss : 0.2058, valid loss : 0.0807\n",
      "epoch : 46, train loss : 0.2045, valid loss : 0.0756\n",
      "epoch : 47, train loss : 0.1990, valid loss : 0.0273\n",
      "epoch : 48, train loss : 0.2116, valid loss : 0.0664\n",
      "epoch : 49, train loss : 0.2002, valid loss : 0.0925\n",
      "epoch : 50, train loss : 0.1934, valid loss : 0.0242\n",
      "epoch : 51, train loss : 0.1871, valid loss : 0.0640\n",
      "epoch : 52, train loss : 0.2096, valid loss : 0.0932\n",
      "epoch : 53, train loss : 0.2021, valid loss : 0.0830\n",
      "epoch : 54, train loss : 0.1988, valid loss : 0.0472\n",
      "epoch : 55, train loss : 0.1936, valid loss : 0.0298\n",
      "epoch : 56, train loss : 0.1992, valid loss : 0.0785\n",
      "epoch : 57, train loss : 0.2097, valid loss : 0.1204\n",
      "epoch : 58, train loss : 0.2031, valid loss : 0.0428\n",
      "epoch : 59, train loss : 0.1982, valid loss : 0.0552\n",
      "epoch : 60, train loss : 0.2023, valid loss : 0.0690\n",
      "epoch : 61, train loss : 0.1911, valid loss : 0.1227\n",
      "epoch : 62, train loss : 0.1969, valid loss : 0.0375\n",
      "epoch : 63, train loss : 0.1994, valid loss : 0.0639\n",
      "epoch : 64, train loss : 0.2025, valid loss : 0.0478\n",
      "epoch : 65, train loss : 0.2069, valid loss : 0.1418\n",
      "epoch : 66, train loss : 0.1825, valid loss : 0.0913\n",
      "epoch : 67, train loss : 0.1893, valid loss : 0.0579\n",
      "epoch : 68, train loss : 0.2105, valid loss : 0.0541\n",
      "epoch : 69, train loss : 0.2005, valid loss : 0.0374\n",
      "epoch : 70, train loss : 0.1772, valid loss : 0.0847\n",
      "epoch : 71, train loss : 0.1939, valid loss : 0.0972\n",
      "epoch : 72, train loss : 0.2070, valid loss : 0.0344\n",
      "epoch : 73, train loss : 0.2078, valid loss : 0.0692\n",
      "epoch : 74, train loss : 0.1938, valid loss : 0.0731\n",
      "epoch : 75, train loss : 0.2004, valid loss : 0.0739\n",
      "epoch : 76, train loss : 0.1845, valid loss : 0.0334\n",
      "epoch : 77, train loss : 0.1949, valid loss : 0.0382\n",
      "epoch : 78, train loss : 0.1901, valid loss : 0.0463\n",
      "epoch : 79, train loss : 0.1998, valid loss : 0.0843\n",
      "epoch : 80, train loss : 0.1850, valid loss : 0.1515\n",
      "epoch : 81, train loss : 0.1923, valid loss : 0.0572\n",
      "epoch : 82, train loss : 0.1799, valid loss : 0.0789\n",
      "epoch : 83, train loss : 0.1919, valid loss : 0.1386\n",
      "epoch : 84, train loss : 0.2043, valid loss : 0.1101\n",
      "epoch : 85, train loss : 0.1936, valid loss : 0.0867\n",
      "epoch : 86, train loss : 0.1937, valid loss : 0.0516\n",
      "epoch : 87, train loss : 0.2041, valid loss : 0.0400\n",
      "epoch : 88, train loss : 0.1824, valid loss : 0.0788\n",
      "epoch : 89, train loss : 0.2033, valid loss : 0.1018\n",
      "epoch : 90, train loss : 0.1930, valid loss : 0.0577\n",
      "epoch : 91, train loss : 0.2011, valid loss : 0.1172\n",
      "epoch : 92, train loss : 0.1990, valid loss : 0.0517\n",
      "epoch : 93, train loss : 0.1993, valid loss : 0.0648\n",
      "epoch : 94, train loss : 0.2186, valid loss : 0.0495\n",
      "epoch : 95, train loss : 0.1930, valid loss : 0.0679\n",
      "epoch : 96, train loss : 0.1944, valid loss : 0.0406\n",
      "epoch : 97, train loss : 0.2084, valid loss : 0.0376\n",
      "epoch : 98, train loss : 0.2019, valid loss : 0.0739\n",
      "epoch : 99, train loss : 0.2036, valid loss : 0.0447\n",
      "epoch : 100, train loss : 0.1921, valid loss : 0.0750\n",
      "epoch : 101, train loss : 0.2004, valid loss : 0.0725\n",
      "epoch : 102, train loss : 0.2089, valid loss : 0.0526\n",
      "epoch : 103, train loss : 0.1908, valid loss : 0.0594\n",
      "epoch : 104, train loss : 0.2067, valid loss : 0.1375\n",
      "epoch : 105, train loss : 0.1880, valid loss : 0.0465\n",
      "epoch : 106, train loss : 0.1935, valid loss : 0.0710\n",
      "epoch : 107, train loss : 0.1893, valid loss : 0.0411\n",
      "epoch : 108, train loss : 0.2093, valid loss : 0.1329\n",
      "epoch : 109, train loss : 0.1845, valid loss : 0.0511\n",
      "epoch : 110, train loss : 0.1995, valid loss : 0.0921\n",
      "epoch : 111, train loss : 0.2022, valid loss : 0.1171\n",
      "epoch : 112, train loss : 0.1961, valid loss : 0.0592\n",
      "epoch : 113, train loss : 0.1965, valid loss : 0.0400\n",
      "epoch : 114, train loss : 0.2057, valid loss : 0.1418\n",
      "epoch : 115, train loss : 0.1974, valid loss : 0.0727\n",
      "epoch : 116, train loss : 0.1909, valid loss : 0.1192\n",
      "epoch : 117, train loss : 0.1917, valid loss : 0.1885\n",
      "epoch : 118, train loss : 0.2007, valid loss : 0.1175\n",
      "epoch : 119, train loss : 0.1862, valid loss : 0.0973\n",
      "epoch : 120, train loss : 0.2065, valid loss : 0.0632\n",
      "epoch : 121, train loss : 0.2003, valid loss : 0.0617\n",
      "epoch : 122, train loss : 0.1979, valid loss : 0.0565\n",
      "epoch : 123, train loss : 0.2092, valid loss : 0.0612\n",
      "epoch : 124, train loss : 0.1989, valid loss : 0.0847\n",
      "epoch : 125, train loss : 0.1999, valid loss : 0.0883\n",
      "epoch : 126, train loss : 0.1855, valid loss : 0.0212\n",
      "epoch : 127, train loss : 0.2001, valid loss : 0.0538\n",
      "epoch : 128, train loss : 0.1995, valid loss : 0.0959\n",
      "epoch : 129, train loss : 0.2041, valid loss : 0.0994\n",
      "epoch : 130, train loss : 0.2022, valid loss : 0.0824\n",
      "epoch : 131, train loss : 0.2003, valid loss : 0.0933\n",
      "epoch : 132, train loss : 0.1928, valid loss : 0.0657\n",
      "epoch : 133, train loss : 0.2019, valid loss : 0.1363\n",
      "epoch : 134, train loss : 0.2184, valid loss : 0.0508\n",
      "epoch : 135, train loss : 0.2081, valid loss : 0.0603\n",
      "epoch : 136, train loss : 0.1870, valid loss : 0.0853\n",
      "epoch : 137, train loss : 0.1980, valid loss : 0.0712\n",
      "epoch : 138, train loss : 0.1905, valid loss : 0.0538\n",
      "epoch : 139, train loss : 0.1874, valid loss : 0.0939\n",
      "epoch : 140, train loss : 0.2072, valid loss : 0.0914\n",
      "epoch : 141, train loss : 0.2090, valid loss : 0.0728\n",
      "epoch : 142, train loss : 0.1818, valid loss : 0.0984\n",
      "epoch : 143, train loss : 0.1864, valid loss : 0.1019\n",
      "epoch : 144, train loss : 0.1824, valid loss : 0.0346\n",
      "epoch : 145, train loss : 0.1855, valid loss : 0.0803\n",
      "epoch : 146, train loss : 0.2091, valid loss : 0.0572\n",
      "epoch : 147, train loss : 0.1950, valid loss : 0.0514\n",
      "epoch : 148, train loss : 0.1876, valid loss : 0.0861\n",
      "epoch : 149, train loss : 0.1838, valid loss : 0.0757\n",
      "epoch : 150, train loss : 0.2028, valid loss : 0.1078\n",
      "epoch : 151, train loss : 0.2131, valid loss : 0.0851\n",
      "epoch : 152, train loss : 0.1990, valid loss : 0.0271\n",
      "epoch : 153, train loss : 0.1977, valid loss : 0.1928\n",
      "epoch : 154, train loss : 0.2089, valid loss : 0.0377\n"
     ]
    },
    {
     "name": "stdout",
     "output_type": "stream",
     "text": [
      "epoch : 155, train loss : 0.2031, valid loss : 0.0727\n",
      "epoch : 156, train loss : 0.1919, valid loss : 0.0669\n",
      "epoch : 157, train loss : 0.1904, valid loss : 0.1093\n",
      "epoch : 158, train loss : 0.1877, valid loss : 0.1006\n",
      "epoch : 159, train loss : 0.2025, valid loss : 0.0579\n",
      "epoch : 160, train loss : 0.1801, valid loss : 0.0868\n",
      "epoch : 161, train loss : 0.2052, valid loss : 0.0470\n",
      "epoch : 162, train loss : 0.1917, valid loss : 0.1125\n",
      "epoch : 163, train loss : 0.1918, valid loss : 0.0892\n",
      "epoch : 164, train loss : 0.1999, valid loss : 0.0843\n",
      "epoch : 165, train loss : 0.1894, valid loss : 0.0649\n",
      "epoch : 166, train loss : 0.2034, valid loss : 0.0530\n",
      "epoch : 167, train loss : 0.1947, valid loss : 0.0811\n",
      "epoch : 168, train loss : 0.2110, valid loss : 0.0855\n",
      "epoch : 169, train loss : 0.2097, valid loss : 0.0590\n",
      "epoch : 170, train loss : 0.2055, valid loss : 0.0508\n",
      "epoch : 171, train loss : 0.2113, valid loss : 0.1384\n",
      "epoch : 172, train loss : 0.1826, valid loss : 0.0678\n",
      "epoch : 173, train loss : 0.1958, valid loss : 0.0719\n",
      "epoch : 174, train loss : 0.2009, valid loss : 0.0569\n",
      "epoch : 175, train loss : 0.1965, valid loss : 0.0682\n",
      "epoch : 176, train loss : 0.2036, valid loss : 0.1314\n",
      "epoch : 177, train loss : 0.1938, valid loss : 0.0600\n",
      "epoch : 178, train loss : 0.1866, valid loss : 0.0785\n",
      "epoch : 179, train loss : 0.1994, valid loss : 0.0840\n",
      "epoch : 180, train loss : 0.2063, valid loss : 0.1686\n",
      "epoch : 181, train loss : 0.2018, valid loss : 0.1216\n",
      "epoch : 182, train loss : 0.1959, valid loss : 0.0619\n",
      "epoch : 183, train loss : 0.1901, valid loss : 0.0587\n",
      "epoch : 184, train loss : 0.1936, valid loss : 0.0475\n",
      "epoch : 185, train loss : 0.1948, valid loss : 0.0718\n",
      "epoch : 186, train loss : 0.1910, valid loss : 0.0878\n",
      "epoch : 187, train loss : 0.1893, valid loss : 0.1040\n",
      "epoch : 188, train loss : 0.1930, valid loss : 0.0394\n",
      "epoch : 189, train loss : 0.1899, valid loss : 0.0888\n",
      "epoch : 190, train loss : 0.2086, valid loss : 0.1065\n",
      "epoch : 191, train loss : 0.2250, valid loss : 0.1153\n",
      "epoch : 192, train loss : 0.1974, valid loss : 0.0739\n",
      "epoch : 193, train loss : 0.1940, valid loss : 0.0675\n",
      "epoch : 194, train loss : 0.2077, valid loss : 0.1051\n",
      "epoch : 195, train loss : 0.1837, valid loss : 0.0910\n",
      "epoch : 196, train loss : 0.2038, valid loss : 0.0252\n",
      "epoch : 197, train loss : 0.2051, valid loss : 0.0847\n",
      "epoch : 198, train loss : 0.1902, valid loss : 0.0609\n",
      "epoch : 199, train loss : 0.1990, valid loss : 0.1296\n",
      "epoch : 200, train loss : 0.1881, valid loss : 0.0355\n"
     ]
    }
   ],
   "source": [
    "mean_train_losses = []\n",
    "mean_valid_losses = []\n",
    "valid_acc_list = []\n",
    "epochs = 200\n",
    "\n",
    "for epoch in range(epochs):\n",
    "    model.train()\n",
    "    \n",
    "    train_losses = []\n",
    "    valid_losses = []\n",
    "    for i, (embeddings, labels) in enumerate(train_loader):\n",
    "        \n",
    "        optimizer.zero_grad()\n",
    "        \n",
    "        outputs = model(embeddings)\n",
    "        \n",
    "        #print(\"Embeddings: \", embeddings, \" Output: \", outputs, \" Labels: \", labels.view(-1,1))\n",
    "        \n",
    "        loss = torch.sqrt(loss_fn(outputs, labels.view(-1,1)))\n",
    "        loss.backward()\n",
    "        optimizer.step()\n",
    "        \n",
    "        train_losses.append(loss.item())\n",
    "            \n",
    "    model.eval()\n",
    "    \n",
    "    with torch.no_grad():\n",
    "        for i, (embeddings, labels) in enumerate(valid_loader):\n",
    "            outputs = model(embeddings)\n",
    "            loss = torch.sqrt(loss_fn(outputs, labels.view(-1,1)))\n",
    "            \n",
    "            valid_losses.append(loss.item())\n",
    "            \n",
    "    mean_train_losses.append(np.mean(train_losses))\n",
    "    mean_valid_losses.append(np.mean(valid_losses))\n",
    "    \n",
    "    print('epoch : {}, train loss : {:.4f}, valid loss : {:.4f}'\\\n",
    "         .format(epoch+1, np.mean(train_losses), np.mean(valid_losses)))"
   ]
  },
  {
   "cell_type": "code",
   "execution_count": 96,
   "id": "designing-softball",
   "metadata": {},
   "outputs": [
    {
     "data": {
      "image/png": "[encoded data removed]",
      "text/plain": [
       "<Figure size 432x288 with 1 Axes>"
      ]
     },
     "metadata": {
      "needs_background": "light"
     },
     "output_type": "display_data"
    }
   ],
   "source": [
    "# func to struct\n",
    "fig, ax = plt.subplots()\n",
    "ax.plot(mean_train_losses, label='train')\n",
    "ax.plot(mean_valid_losses, label='valid')\n",
    "lines, labels = ax.get_legend_handles_labels()\n",
    "ax.legend(lines, labels, loc='best')\n",
    "\n",
    "plt.show()"
   ]
  },
  {
   "cell_type": "code",
   "execution_count": 97,
   "id": "stuffed-familiar",
   "metadata": {},
   "outputs": [
    {
     "name": "stdout",
     "output_type": "stream",
     "text": [
      "average test loss: 0.7080142753464835\n",
      "average valid loss: 0.07546502655372024\n",
      "average train loss: 0.19752390950812765\n"
     ]
    }
   ],
   "source": [
    "model.eval()\n",
    "test_losses = []\n",
    "for i, (embeddings, labels) in enumerate(test_loader):\n",
    "    \n",
    "    pred = model(embeddings)\n",
    "    loss = torch.sqrt(loss_fn(pred, labels.view(-1,1)))\n",
    "    #print(\"Prediction:\", pred.detach().numpy(), \" Ground Truth:\", labels.view(-1,1))\n",
    "    test_losses.append(loss.item())\n",
    "print(\"average test loss:\", np.mean(test_losses))\n",
    "print(\"average valid loss:\", np.mean(mean_valid_losses))\n",
    "print(\"average train loss:\", np.mean(mean_train_losses))"
   ]
  },
  {
   "cell_type": "code",
   "execution_count": 92,
   "id": "sustainable-attendance",
   "metadata": {},
   "outputs": [
    {
     "name": "stdout",
     "output_type": "stream",
     "text": [
      "average r2_score: -0.08274145573503919\n"
     ]
    }
   ],
   "source": [
    "from sklearn.metrics import r2_score\n",
    "r2_score_average = []\n",
    "for i, (embeddings, labels) in enumerate(test_loader):\n",
    "    \n",
    "    pred = model(embeddings)\n",
    "    \n",
    "    r2_score_average.append(r2_score(labels.view(-1,1).detach().numpy(),pred.detach().numpy()))\n",
    "print(\"average r2_score:\", np.mean(r2_score_average))"
   ]
  },
  {
   "cell_type": "code",
   "execution_count": 79,
   "id": "documentary-treatment",
   "metadata": {},
   "outputs": [],
   "source": [
    "torch.save(model.state_dict(), \"models/graph2vec_MLP_func2struct_with_dropout_555\")"
   ]
  },
  {
   "cell_type": "markdown",
   "id": "cultural-robert",
   "metadata": {},
   "source": [
    "# struct to func\n",
    "### 0.5 0.5 0.5\n",
    "average test loss: 0.7230720051697322\n",
    "이거 다시 해보기!!\n",
    "\n",
    "### 0.5 0.4 0.4\n",
    "average test loss: 0.7433243819645473"
   ]
  },
  {
   "cell_type": "markdown",
   "id": "neutral-purple",
   "metadata": {},
   "source": [
    "# func to struct\n",
    "### 0.5 0.4 0.3\n",
    "average test loss: 1.9211418628692627\n",
    "??\n",
    "??\n",
    "\n",
    "### 0.5 0.5 0.5 - now going on\n",
    "average test loss: 0.7079375173364367\n",
    "average valid loss: 0.06544981951426182\n",
    "average train loss: 0.20557052508840024"
   ]
  },
  {
   "cell_type": "code",
   "execution_count": null,
   "id": "passing-stamp",
   "metadata": {},
   "outputs": [],
   "source": []
  }
 ],
 "metadata": {
  "kernelspec": {
   "display_name": "Python 3",
   "language": "python",
   "name": "python3"
  },
  "language_info": {
   "codemirror_mode": {
    "name": "ipython",
    "version": 3
   },
   "file_extension": ".py",
   "mimetype": "text/x-python",
   "name": "python",
   "nbconvert_exporter": "python",
   "pygments_lexer": "ipython3",
   "version": "3.7.9"
  }
 },
 "nbformat": 4,
 "nbformat_minor": 5
}
