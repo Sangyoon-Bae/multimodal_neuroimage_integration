{
 "cells": [
  {
   "cell_type": "code",
   "execution_count": null,
   "id": "measured-interference",
   "metadata": {},
   "outputs": [],
   "source": [
    "import numpy as np\n",
    "import pandas as pd\n",
    "import os\n",
    "import re\n",
    "import networkx as nx\n",
    "import pickle\n",
    "import json\n",
    "from numpy import genfromtxt"
   ]
  },
  {
   "cell_type": "code",
   "execution_count": null,
   "id": "active-bouquet",
   "metadata": {},
   "outputs": [],
   "source": [
    "data_dir = '/home/ubuntu/Stella/MLVU_multimodality/valid_DTI_con_mat_1105'"
   ]
  },
  {
   "cell_type": "code",
   "execution_count": null,
   "id": "killing-speed",
   "metadata": {},
   "outputs": [],
   "source": [
    "targ_folder = os.listdir(data_dir)"
   ]
  },
  {
   "cell_type": "code",
   "execution_count": null,
   "id": "placed-petersburg",
   "metadata": {},
   "outputs": [],
   "source": [
    "con_mat_list=list(targ_folder)"
   ]
  },
  {
   "cell_type": "code",
   "execution_count": null,
   "id": "automated-communications",
   "metadata": {},
   "outputs": [],
   "source": [
    "len(con_mat_list)"
   ]
  },
  {
   "cell_type": "code",
   "execution_count": null,
   "id": "promising-queens",
   "metadata": {},
   "outputs": [],
   "source": [
    "con_mat_list[0]"
   ]
  },
  {
   "cell_type": "code",
   "execution_count": null,
   "id": "rapid-advancement",
   "metadata": {},
   "outputs": [],
   "source": [
    "node_skeleton = pd.read_csv('DTI - sMRI.csv')"
   ]
  },
  {
   "cell_type": "code",
   "execution_count": null,
   "id": "noted-formula",
   "metadata": {},
   "outputs": [],
   "source": [
    "node_data = pd.read_csv('mor.some.qc.csv')"
   ]
  },
  {
   "cell_type": "code",
   "execution_count": null,
   "id": "handed-baking",
   "metadata": {},
   "outputs": [],
   "source": [
    "node_data['subjectkey'] = node_data['subjectkey'].apply(lambda x : x.replace('_','')) #remove _ from subjectkey"
   ]
  },
  {
   "cell_type": "code",
   "execution_count": null,
   "id": "median-frontier",
   "metadata": {},
   "outputs": [],
   "source": [
    "node_skeleton_array  = np.array(node_skeleton.iloc[:, 2:])"
   ]
  },
  {
   "cell_type": "code",
   "execution_count": null,
   "id": "proved-terry",
   "metadata": {},
   "outputs": [],
   "source": [
    "node_skeleton_array.shape"
   ]
  },
  {
   "cell_type": "code",
   "execution_count": null,
   "id": "straight-prison",
   "metadata": {},
   "outputs": [],
   "source": [
    "node_skeleton_array[9][1]"
   ]
  },
  {
   "cell_type": "code",
   "execution_count": null,
   "id": "handmade-brake",
   "metadata": {},
   "outputs": [],
   "source": [
    "data = os.path.join(data_dir, con_mat_list[0])\n",
    "subject_id = con_mat_list[0].split(' ')[4].split('.')[0]\n",
    "\n",
    "# make adjacency matrix\n",
    "mydata = genfromtxt(data, delimiter=',')\n",
    "adjacency = mydata[1:,1:]"
   ]
  },
  {
   "cell_type": "code",
   "execution_count": null,
   "id": "anonymous-gates",
   "metadata": {},
   "outputs": [],
   "source": [
    "adjacency.shape"
   ]
  },
  {
   "cell_type": "code",
   "execution_count": null,
   "id": "generic-radical",
   "metadata": {},
   "outputs": [],
   "source": [
    "def node_feat_func(subject_id):\n",
    "    node_feat = list()\n",
    "    data = node_data[node_data['subjectkey'] == subject_id]\n",
    "    for i in range (84):\n",
    "        col_name = node_skeleton_array[i][1]\n",
    "        if pd.isna(col_name) == True:\n",
    "            node_feat.append(0)\n",
    "        else:\n",
    "            node_feat.append(round(data[col_name].values[0]))\n",
    "    # change format\n",
    "    keylist=[]\n",
    "    valuelist=[]\n",
    "\n",
    "    for j,k in enumerate(node_feat):\n",
    "        keylist.append(str(j))\n",
    "        valuelist.append(str(k))\n",
    "    node_feat_dict=dict(zip(keylist, valuelist)) \n",
    "    return node_feat_dict"
   ]
  },
  {
   "cell_type": "code",
   "execution_count": null,
   "id": "institutional-omaha",
   "metadata": {},
   "outputs": [],
   "source": [
    "test = node_feat_func('NDARINVUN80YW88')"
   ]
  },
  {
   "cell_type": "code",
   "execution_count": null,
   "id": "exact-bedroom",
   "metadata": {},
   "outputs": [],
   "source": [
    "test"
   ]
  },
  {
   "cell_type": "code",
   "execution_count": null,
   "id": "mature-arrow",
   "metadata": {},
   "outputs": [],
   "source": [
    "edge_list = edge_list_func(adjacency)"
   ]
  },
  {
   "cell_type": "code",
   "execution_count": null,
   "id": "handy-style",
   "metadata": {},
   "outputs": [],
   "source": [
    "num_edges = num_edges_func(edge_list)"
   ]
  },
  {
   "cell_type": "code",
   "execution_count": null,
   "id": "successful-stability",
   "metadata": {},
   "outputs": [],
   "source": [
    "edge_index = edge_feat_func(num_edges, edge_list)"
   ]
  },
  {
   "cell_type": "code",
   "execution_count": null,
   "id": "smaller-recovery",
   "metadata": {},
   "outputs": [],
   "source": [
    "len(edge_index)"
   ]
  },
  {
   "cell_type": "code",
   "execution_count": null,
   "id": "dynamic-volunteer",
   "metadata": {},
   "outputs": [],
   "source": [
    "def edge_list_func(adjacency):\n",
    "    edge_list=[]\n",
    "    for i in range (84):\n",
    "        for j in range (84):\n",
    "            edge_list.append((i, j, adjacency[i][j]))\n",
    "                \n",
    "    edge_new_list=[]\n",
    "    for i in range (len(edge_list)):\n",
    "        if edge_list[i][2] >= 0.2:\n",
    "            edge_new_list.append(edge_list[i])\n",
    "            \n",
    "    return edge_new_list"
   ]
  },
  {
   "cell_type": "code",
   "execution_count": null,
   "id": "accepted-carol",
   "metadata": {},
   "outputs": [],
   "source": [
    "def num_edges_func(edge_list):\n",
    "    num_edges=len(edge_list)\n",
    "    return num_edges"
   ]
  },
  {
   "cell_type": "code",
   "execution_count": null,
   "id": "known-unemployment",
   "metadata": {},
   "outputs": [],
   "source": [
    "def edge_feat_func(num_edges, edge_list):\n",
    "    # initialization\n",
    "    edgefeat_dim = 1\n",
    "    edge_feat = np.zeros((int(num_edges), edgefeat_dim))\n",
    "    edge_index = np.zeros((int(num_edges),2))\n",
    "    # calculation\n",
    "    for i in range (num_edges):\n",
    "        source = edge_list[i][0]\n",
    "        target = edge_list[i][1]\n",
    "        edge_index[i][0] = int(source)\n",
    "        edge_index[i][1] = int(target)\n",
    "    # change format\n",
    "    edge_index_list=[]\n",
    "    for i in range(edge_index.shape[0]):\n",
    "        source = int(edge_index[i][0])\n",
    "        target = int(edge_index[i][1])\n",
    "        edge_index_list.append([source, target])\n",
    "    return edge_index_list"
   ]
  },
  {
   "cell_type": "code",
   "execution_count": null,
   "id": "complete-wisconsin",
   "metadata": {},
   "outputs": [],
   "source": [
    "for i in range(len(con_mat_list)):\n",
    "    # load data\n",
    "    data = os.path.join(data_dir, con_mat_list[i])\n",
    "    subject_id = con_mat_list[i].split(' ')[4].split('.')[0]\n",
    "    \n",
    "    # make adjacency matrix\n",
    "    mydata = genfromtxt(data, delimiter=',')\n",
    "    adjacency = mydata[1:,1:]\n",
    "    \n",
    "    # edge_index\n",
    "    edge_list = edge_list_func(adjacency)\n",
    "    num_edges = num_edges_func(edge_list)\n",
    "    edge_index = edge_feat_func(num_edges, edge_list)\n",
    "    \n",
    "    # node_feat\n",
    "    node_feat = node_feat_func(subject_id)\n",
    "    \n",
    "    # draw graph\n",
    "    graph = dict({'edges': edge_index, 'features': node_feat})\n",
    "    \n",
    "    print(graph)\n",
    "    \n",
    "    with open('/home/ubuntu/Stella/MLVU_multimodality/build structural graph/structural_graph_for_graph2vec_1212/graph2vec_structural_graph_%s.json'%subject_id, 'wb') as file:\n",
    "        pickle.dump(graph, file)"
   ]
  },
  {
   "cell_type": "code",
   "execution_count": null,
   "id": "accepting-invitation",
   "metadata": {},
   "outputs": [],
   "source": []
  }
 ],
 "metadata": {
  "kernelspec": {
   "display_name": "Python 3",
   "language": "python",
   "name": "python3"
  },
  "language_info": {
   "codemirror_mode": {
    "name": "ipython",
    "version": 3
   },
   "file_extension": ".py",
   "mimetype": "text/x-python",
   "name": "python",
   "nbconvert_exporter": "python",
   "pygments_lexer": "ipython3",
   "version": "3.7.9"
  }
 },
 "nbformat": 4,
 "nbformat_minor": 5
}
