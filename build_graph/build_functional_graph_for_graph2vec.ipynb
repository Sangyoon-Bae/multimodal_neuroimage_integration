{
 "cells": [
  {
   "cell_type": "code",
   "execution_count": null,
   "id": "measured-interference",
   "metadata": {},
   "outputs": [],
   "source": [
    "import numpy as np\n",
    "import pandas as pd\n",
    "import os\n",
    "import re\n",
    "import networkx as nx\n",
    "import pickle\n",
    "from numpy import genfromtxt"
   ]
  },
  {
   "cell_type": "code",
   "execution_count": null,
   "id": "active-bouquet",
   "metadata": {},
   "outputs": [],
   "source": [
    "data_dir = '/home/ubuntu/Stella/MLVU_multimodality/build functional graph/valid_fMRI_con_mat_1210'"
   ]
  },
  {
   "cell_type": "code",
   "execution_count": null,
   "id": "killing-speed",
   "metadata": {},
   "outputs": [],
   "source": [
    "targ_folder = os.listdir(data_dir)"
   ]
  },
  {
   "cell_type": "code",
   "execution_count": null,
   "id": "placed-petersburg",
   "metadata": {},
   "outputs": [],
   "source": [
    "con_mat_list=list(targ_folder)"
   ]
  },
  {
   "cell_type": "code",
   "execution_count": null,
   "id": "automated-communications",
   "metadata": {},
   "outputs": [],
   "source": [
    "len(con_mat_list)"
   ]
  },
  {
   "cell_type": "code",
   "execution_count": null,
   "id": "promising-queens",
   "metadata": {},
   "outputs": [],
   "source": [
    "con_mat_list[0]"
   ]
  },
  {
   "cell_type": "code",
   "execution_count": null,
   "id": "rapid-advancement",
   "metadata": {},
   "outputs": [],
   "source": [
    "node_skeleton = pd.read_csv('fMRI - sMRI.csv')"
   ]
  },
  {
   "cell_type": "code",
   "execution_count": null,
   "id": "noted-formula",
   "metadata": {},
   "outputs": [],
   "source": [
    "node_data = pd.read_csv('mor.some.qc.csv')"
   ]
  },
  {
   "cell_type": "code",
   "execution_count": null,
   "id": "handed-baking",
   "metadata": {},
   "outputs": [],
   "source": [
    "node_data['subjectkey'] = node_data['subjectkey'].apply(lambda x : x.replace('_','')) #remove _ from subjectkey"
   ]
  },
  {
   "cell_type": "code",
   "execution_count": null,
   "id": "median-frontier",
   "metadata": {},
   "outputs": [],
   "source": [
    "node_skeleton_array  = np.array(node_skeleton.iloc[:, 3:])"
   ]
  },
  {
   "cell_type": "code",
   "execution_count": null,
   "id": "proved-terry",
   "metadata": {},
   "outputs": [],
   "source": [
    "node_skeleton_array.shape"
   ]
  },
  {
   "cell_type": "code",
   "execution_count": null,
   "id": "straight-prison",
   "metadata": {},
   "outputs": [],
   "source": [
    "node_skeleton_array[9][1]"
   ]
  },
  {
   "cell_type": "code",
   "execution_count": null,
   "id": "handmade-brake",
   "metadata": {},
   "outputs": [],
   "source": [
    "def node_feat_func(subject_id):\n",
    "    node_feat = list()\n",
    "    data = node_data[node_data['subjectkey'] == subject_id]\n",
    "    for i in range (51):\n",
    "        for j in range(2):\n",
    "            col_name = node_skeleton_array[i][j]\n",
    "            if pd.isna(col_name) == True:\n",
    "                node_feat.append(0)\n",
    "            else:\n",
    "                node_feat.append(data[col_name].values[0])\n",
    "    test = (np.array(node_feat)).reshape(51,2)\n",
    "    # make pre_ans (col: thickness, volume, row: 51)\n",
    "    pre_ans = np.zeros((51, 1))\n",
    "    for k in range (51):\n",
    "        pre_ans[k] = float(test[k][0])+float(test[k][1]) #volume\n",
    "    # make final ans (col: thickness, volume, row:48)\n",
    "    ans = np.zeros((51, 1))\n",
    "    for m in range(51):\n",
    "        if m == 3 or m == 29 or m == 34 :\n",
    "            ans[m] = pre_ans[m] + pre_ans[m+1]#add\n",
    "        elif m==4 or m==30 or m==35:\n",
    "            ans[m][0] = 1.00 #replace with 0\n",
    "        else:\n",
    "            ans[m][0] = pre_ans[m][0]\n",
    "        final = np.delete(ans,(4, 30, 35), axis = 0)\n",
    "                                         \n",
    "    # change format\n",
    "    keylist=[]\n",
    "    valuelist=[]\n",
    "\n",
    "    for j,k in enumerate(final):\n",
    "        keylist.append(str(j))\n",
    "        valuelist.append(str(int(k)))\n",
    "    node_feat_dict=dict(zip(keylist, valuelist)) \n",
    "    return node_feat_dict"
   ]
  },
  {
   "cell_type": "code",
   "execution_count": null,
   "id": "bottom-single",
   "metadata": {},
   "outputs": [],
   "source": [
    "test = node_feat_func('NDARINVGL08BW0W')"
   ]
  },
  {
   "cell_type": "code",
   "execution_count": null,
   "id": "loaded-combining",
   "metadata": {},
   "outputs": [],
   "source": [
    "test"
   ]
  },
  {
   "cell_type": "code",
   "execution_count": null,
   "id": "smaller-recovery",
   "metadata": {},
   "outputs": [],
   "source": [
    "edge_index.shape"
   ]
  },
  {
   "cell_type": "code",
   "execution_count": null,
   "id": "dynamic-volunteer",
   "metadata": {},
   "outputs": [],
   "source": [
    "def edge_list_func(adjacency):\n",
    "    edge_list=[]\n",
    "    for i in range (48):\n",
    "        for j in range (48):\n",
    "            edge_list.append((i, j, adjacency[i][j]))\n",
    "                \n",
    "    edge_new_list=[]\n",
    "    for i in range (len(edge_list)):\n",
    "        if edge_list[i][2] >= 0.2:\n",
    "            edge_new_list.append(edge_list[i])\n",
    "            \n",
    "    return edge_new_list"
   ]
  },
  {
   "cell_type": "code",
   "execution_count": null,
   "id": "accepted-carol",
   "metadata": {},
   "outputs": [],
   "source": [
    "def num_edges_func(edge_list):\n",
    "    num_edges=len(edge_list)\n",
    "    return num_edges"
   ]
  },
  {
   "cell_type": "code",
   "execution_count": null,
   "id": "known-unemployment",
   "metadata": {},
   "outputs": [],
   "source": [
    "def edge_feat_func(num_edges, edge_list):\n",
    "    # initialization\n",
    "    edgefeat_dim = 1\n",
    "    edge_feat = np.zeros((int(num_edges), edgefeat_dim))\n",
    "    edge_index = np.zeros((int(num_edges),2))\n",
    "    # calculation\n",
    "    for i in range (num_edges):\n",
    "        source = edge_list[i][0]\n",
    "        target = edge_list[i][1]\n",
    "        edge_index[i][0] = int(source)\n",
    "        edge_index[i][1] = int(target)\n",
    "    # change format\n",
    "    edge_index_list=[]\n",
    "    for i in range(edge_index.shape[0]):\n",
    "        source = int(edge_index[i][0])\n",
    "        target = int(edge_index[i][1])\n",
    "        edge_index_list.append([source, target])\n",
    "    return edge_index_list"
   ]
  },
  {
   "cell_type": "code",
   "execution_count": null,
   "id": "complete-wisconsin",
   "metadata": {},
   "outputs": [],
   "source": [
    "for i in range(len(con_mat_list)):\n",
    "    # load data\n",
    "    data = os.path.join(data_dir, con_mat_list[i])\n",
    "    subject_id = con_mat_list[i].split('-')[0]\n",
    "    \n",
    "    # make adjacency matrix\n",
    "    adjacency = np.load(data)\n",
    "    \n",
    "    # edge_index\n",
    "    edge_list = edge_list_func(adjacency)\n",
    "    num_edges = num_edges_func(edge_list)\n",
    "    edge_index = edge_feat_func(num_edges, edge_list)\n",
    "    \n",
    "    # node_feat\n",
    "    node_feat = node_feat_func(subject_id)\n",
    "    \n",
    "    # draw graph\n",
    "    graph = dict({'edges': edge_index, 'features': node_feat})\n",
    "    \n",
    "    print(graph)\n",
    "    \n",
    "    with open('/home/ubuntu/Stella/MLVU_multimodality/build functional graph/functional_graph_for_graph2vec_1212/graph2vec_functional_graph_%s.json'%subject_id, 'wb') as file:\n",
    "        pickle.dump(graph, file)"
   ]
  }
 ],
 "metadata": {
  "kernelspec": {
   "display_name": "Python 3",
   "language": "python",
   "name": "python3"
  },
  "language_info": {
   "codemirror_mode": {
    "name": "ipython",
    "version": 3
   },
   "file_extension": ".py",
   "mimetype": "text/x-python",
   "name": "python",
   "nbconvert_exporter": "python",
   "pygments_lexer": "ipython3",
   "version": "3.7.9"
  }
 },
 "nbformat": 4,
 "nbformat_minor": 5
}
