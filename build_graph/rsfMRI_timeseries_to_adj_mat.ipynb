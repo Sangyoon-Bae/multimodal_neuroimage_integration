{
 "cells": [
  {
   "cell_type": "code",
   "execution_count": 1,
   "id": "96cdc097",
   "metadata": {},
   "outputs": [],
   "source": [
    "import numpy as np\n",
    "import pandas as pd\n",
    "from scipy import stats"
   ]
  },
  {
   "cell_type": "code",
   "execution_count": 2,
   "id": "fallen-nudist",
   "metadata": {},
   "outputs": [],
   "source": [
    "demo = pd.read_csv(\"mol.csv\")"
   ]
  },
  {
   "cell_type": "code",
   "execution_count": 7,
   "id": "consolidated-secretariat",
   "metadata": {},
   "outputs": [],
   "source": [
    "sub=list(demo['subject_id'])"
   ]
  },
  {
   "cell_type": "code",
   "execution_count": 2,
   "id": "9e80026a",
   "metadata": {},
   "outputs": [],
   "source": [
    "'''demo = np.loadtxt('valid_subjectlist.txt',delimiter='\\t',dtype='str')\n",
    "file = open(\"valid_subjectlist.txt\", \"r\")\n",
    "strings = file.readlines()\n",
    "sub=[]\n",
    "for i in range(2085):\n",
    "    sub.append(strings[0].split(',')[i])\n",
    "'''"
   ]
  },
  {
   "cell_type": "code",
   "execution_count": 8,
   "id": "bd176e15",
   "metadata": {},
   "outputs": [
    {
     "name": "stdout",
     "output_type": "stream",
     "text": [
      "(2085, 373, 48)\n"
     ]
    }
   ],
   "source": [
    "L = 383 #timeseries\n",
    "S = 10   #from which index to start from\n",
    "data = np.zeros((len(sub),L-S,48));\n",
    "label = np.zeros((len(sub),));\n",
    "print(data.shape)\n",
    "\n",
    "# load all data\n",
    "idx = 0\n",
    "err=0\n",
    "data_all = None"
   ]
  },
  {
   "cell_type": "code",
   "execution_count": 9,
   "id": "ffd34fe2",
   "metadata": {},
   "outputs": [],
   "source": [
    "for i in range(len(sub)):\n",
    "    subject_string = 'fmriprep-deri-'+sub[i]\n",
    "    subject_num = sub[i]\n",
    "\n",
    "    #harvardoxford (383,48)\n",
    "    filename_dir = '/home/ubuntu/Stella/MLVU_multimodality/build functional graph/abcd-fmriprep-rs-time/'+subject_string+'/fmriprep/sub-'+subject_num+'/ses-baselineYear1Arm1/func/'\n",
    "    filename_full = filename_dir+'sub-'+subject_num+'_ses-baselineYear1Arm1_task-rest_run-1_space-MNIPediatricAsym_cohort-4_res-2_desc-preproc_atlas-harvardoxford_timeseries.npy'\n",
    "    full_sequence = np.load(filename_full).T;  #(48, 383)\n",
    "\n",
    "    if full_sequence.shape[1] < L:\n",
    "        continue\n",
    "\n",
    "    full_sequence = full_sequence[:,S:L];\n",
    "    z_sequence = stats.zscore(full_sequence, axis=1) # normalization -> z_sequence shape: (48, 383-5)\n",
    "        \n",
    "    # adjacency matrix 만드는 코드에 input으로 넣을 data를 만드는 코드\n",
    "    data[i,:,:] = np.transpose(z_sequence) # subject, timeseries, roi (2085, 378, 48)"
   ]
  },
  {
   "cell_type": "code",
   "execution_count": 10,
   "id": "modern-blink",
   "metadata": {},
   "outputs": [
    {
     "data": {
      "text/plain": [
       "(2085, 373, 48)"
      ]
     },
     "execution_count": 10,
     "metadata": {},
     "output_type": "execute_result"
    }
   ],
   "source": [
    "data.shape"
   ]
  },
  {
   "cell_type": "code",
   "execution_count": 11,
   "id": "magnetic-article",
   "metadata": {},
   "outputs": [
    {
     "data": {
      "text/plain": [
       "(373, 48)"
      ]
     },
     "execution_count": 11,
     "metadata": {},
     "output_type": "execute_result"
    }
   ],
   "source": [
    "data[0].shape"
   ]
  },
  {
   "cell_type": "code",
   "execution_count": 23,
   "id": "considerable-assignment",
   "metadata": {},
   "outputs": [
    {
     "data": {
      "text/plain": [
       "0.6640235365397175"
      ]
     },
     "execution_count": 23,
     "metadata": {},
     "output_type": "execute_result"
    }
   ],
   "source": [
    "abs(np.corrcoef(data[0,:,0], data[0,:,1]))[0][1]"
   ]
  },
  {
   "cell_type": "code",
   "execution_count": 12,
   "id": "fluid-emission",
   "metadata": {},
   "outputs": [],
   "source": [
    "# compute adj matrix\n",
    "for k in range(data.shape[0]):\n",
    "    n_regions = 48 # harvardoxford atlas\n",
    "    A = np.zeros((n_regions, n_regions)) #initialization\n",
    "    for i in range(n_regions):\n",
    "        for j in range(i, n_regions):\n",
    "            if i==j:\n",
    "                A[i][j] = 1\n",
    "            else:\n",
    "                # used abs value as adjacency matrix\n",
    "                A[i][j] = abs(np.corrcoef(data[k,:,i], data[k,:,j])[0][1]) # get value from corrcoef matrix\n",
    "                A[j][i] = A[i][j]\n",
    "\n",
    "    np.save('/home/ubuntu/Stella/MLVU_multimodality/build functional graph/valid_fMRI_con_mat_1210/%s-func_adj_mat.npy' %sub[k], A)"
   ]
  },
  {
   "cell_type": "code",
   "execution_count": 25,
   "id": "1dfc2c6c",
   "metadata": {},
   "outputs": [
    {
     "data": {
      "text/plain": [
       "'NDARINVGL08BW0W'"
      ]
     },
     "execution_count": 25,
     "metadata": {},
     "output_type": "execute_result"
    }
   ],
   "source": [
    "sub[0]"
   ]
  },
  {
   "cell_type": "code",
   "execution_count": 28,
   "id": "quiet-minimum",
   "metadata": {},
   "outputs": [],
   "source": [
    "test = np.load('/home/ubuntu/Stella/MLVU_multimodality/build functional graph/valid_fMRI_con_mat_1208/NDARINVGL08BW0W-func_adj_mat.npy')"
   ]
  },
  {
   "cell_type": "code",
   "execution_count": 29,
   "id": "alpha-control",
   "metadata": {},
   "outputs": [
    {
     "data": {
      "text/plain": [
       "(48, 48)"
      ]
     },
     "execution_count": 29,
     "metadata": {},
     "output_type": "execute_result"
    }
   ],
   "source": [
    "test.shape"
   ]
  },
  {
   "cell_type": "code",
   "execution_count": 30,
   "id": "tamil-romania",
   "metadata": {},
   "outputs": [
    {
     "data": {
      "text/plain": [
       "array([[1.        , 0.66402354, 0.93618781, ..., 0.09636118, 0.44413121,\n",
       "        0.35770869],\n",
       "       [0.66402354, 1.        , 0.71802415, ..., 0.31808898, 0.04314908,\n",
       "        0.03498037],\n",
       "       [0.93618781, 0.71802415, 1.        , ..., 0.10372621, 0.44360081,\n",
       "        0.27998134],\n",
       "       ...,\n",
       "       [0.09636118, 0.31808898, 0.10372621, ..., 1.        , 0.53778901,\n",
       "        0.53266544],\n",
       "       [0.44413121, 0.04314908, 0.44360081, ..., 0.53778901, 1.        ,\n",
       "        0.7219341 ],\n",
       "       [0.35770869, 0.03498037, 0.27998134, ..., 0.53266544, 0.7219341 ,\n",
       "        1.        ]])"
      ]
     },
     "execution_count": 30,
     "metadata": {},
     "output_type": "execute_result"
    }
   ],
   "source": [
    "test"
   ]
  },
  {
   "cell_type": "code",
   "execution_count": null,
   "id": "split-geography",
   "metadata": {},
   "outputs": [],
   "source": []
  }
 ],
 "metadata": {
  "kernelspec": {
   "display_name": "Python 3",
   "language": "python",
   "name": "python3"
  },
  "language_info": {
   "codemirror_mode": {
    "name": "ipython",
    "version": 3
   },
   "file_extension": ".py",
   "mimetype": "text/x-python",
   "name": "python",
   "nbconvert_exporter": "python",
   "pygments_lexer": "ipython3",
   "version": "3.7.9"
  }
 },
 "nbformat": 4,
 "nbformat_minor": 5
}
