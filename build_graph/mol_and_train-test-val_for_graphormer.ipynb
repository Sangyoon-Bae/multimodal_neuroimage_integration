{
 "cells": [
  {
   "cell_type": "code",
   "execution_count": 1,
   "id": "unlike-supplement",
   "metadata": {},
   "outputs": [],
   "source": [
    "import numpy as np\n",
    "import pandas as pd\n",
    "import os\n",
    "import re\n",
    "import networkx as nx\n",
    "import scona as scn\n",
    "import pickle\n",
    "from numpy import genfromtxt"
   ]
  },
  {
   "cell_type": "markdown",
   "id": "single-label",
   "metadata": {},
   "source": [
    "# 1 making csv files in split folder"
   ]
  },
  {
   "cell_type": "code",
   "execution_count": 26,
   "id": "cultural-secretary",
   "metadata": {},
   "outputs": [],
   "source": [
    "data = pd.DataFrame(range(0,2085), columns=['index'])"
   ]
  },
  {
   "cell_type": "code",
   "execution_count": 27,
   "id": "desirable-scope",
   "metadata": {},
   "outputs": [
    {
     "data": {
      "text/html": [
       "<div>\n",
       "<style scoped>\n",
       "    .dataframe tbody tr th:only-of-type {\n",
       "        vertical-align: middle;\n",
       "    }\n",
       "\n",
       "    .dataframe tbody tr th {\n",
       "        vertical-align: top;\n",
       "    }\n",
       "\n",
       "    .dataframe thead th {\n",
       "        text-align: right;\n",
       "    }\n",
       "</style>\n",
       "<table border=\"1\" class=\"dataframe\">\n",
       "  <thead>\n",
       "    <tr style=\"text-align: right;\">\n",
       "      <th></th>\n",
       "      <th>index</th>\n",
       "    </tr>\n",
       "  </thead>\n",
       "  <tbody>\n",
       "    <tr>\n",
       "      <th>0</th>\n",
       "      <td>0</td>\n",
       "    </tr>\n",
       "    <tr>\n",
       "      <th>1</th>\n",
       "      <td>1</td>\n",
       "    </tr>\n",
       "    <tr>\n",
       "      <th>2</th>\n",
       "      <td>2</td>\n",
       "    </tr>\n",
       "    <tr>\n",
       "      <th>3</th>\n",
       "      <td>3</td>\n",
       "    </tr>\n",
       "    <tr>\n",
       "      <th>4</th>\n",
       "      <td>4</td>\n",
       "    </tr>\n",
       "    <tr>\n",
       "      <th>...</th>\n",
       "      <td>...</td>\n",
       "    </tr>\n",
       "    <tr>\n",
       "      <th>2080</th>\n",
       "      <td>2080</td>\n",
       "    </tr>\n",
       "    <tr>\n",
       "      <th>2081</th>\n",
       "      <td>2081</td>\n",
       "    </tr>\n",
       "    <tr>\n",
       "      <th>2082</th>\n",
       "      <td>2082</td>\n",
       "    </tr>\n",
       "    <tr>\n",
       "      <th>2083</th>\n",
       "      <td>2083</td>\n",
       "    </tr>\n",
       "    <tr>\n",
       "      <th>2084</th>\n",
       "      <td>2084</td>\n",
       "    </tr>\n",
       "  </tbody>\n",
       "</table>\n",
       "<p>2085 rows × 1 columns</p>\n",
       "</div>"
      ],
      "text/plain": [
       "      index\n",
       "0         0\n",
       "1         1\n",
       "2         2\n",
       "3         3\n",
       "4         4\n",
       "...     ...\n",
       "2080   2080\n",
       "2081   2081\n",
       "2082   2082\n",
       "2083   2083\n",
       "2084   2084\n",
       "\n",
       "[2085 rows x 1 columns]"
      ]
     },
     "execution_count": 27,
     "metadata": {},
     "output_type": "execute_result"
    }
   ],
   "source": [
    "data"
   ]
  },
  {
   "cell_type": "code",
   "execution_count": 28,
   "id": "utility-irrigation",
   "metadata": {},
   "outputs": [],
   "source": [
    "from sklearn.model_selection import train_test_split\n",
    "train, test = train_test_split(data, test_size=0.2, random_state=2021)\n",
    "train, val = train_test_split(train, test_size=0.2, random_state=26)"
   ]
  },
  {
   "cell_type": "code",
   "execution_count": 33,
   "id": "peripheral-kingdom",
   "metadata": {},
   "outputs": [],
   "source": [
    "sorted_train=train.sort_values(by=['index'], axis=0)\n",
    "sorted_test=test.sort_values(by=['index'], axis=0)\n",
    "sorted_val=val.sort_values(by=['index'], axis=0)"
   ]
  },
  {
   "cell_type": "code",
   "execution_count": 35,
   "id": "stainless-footage",
   "metadata": {},
   "outputs": [
    {
     "name": "stdout",
     "output_type": "stream",
     "text": [
      "1334\n",
      "417\n",
      "334\n"
     ]
    }
   ],
   "source": [
    "print(len(sorted_train))\n",
    "print(len(sorted_test))\n",
    "print(len(sorted_val))"
   ]
  },
  {
   "cell_type": "code",
   "execution_count": 36,
   "id": "ruled-height",
   "metadata": {},
   "outputs": [],
   "source": [
    "sorted_train.to_csv('train.csv', index=False, header=False)"
   ]
  },
  {
   "cell_type": "code",
   "execution_count": 37,
   "id": "european-exercise",
   "metadata": {},
   "outputs": [],
   "source": [
    "sorted_test.to_csv('test.csv', index=False, header=False)"
   ]
  },
  {
   "cell_type": "code",
   "execution_count": 38,
   "id": "nearby-basin",
   "metadata": {},
   "outputs": [],
   "source": [
    "sorted_val.to_csv('val.csv', index=False, header=False)"
   ]
  },
  {
   "cell_type": "markdown",
   "id": "american-condition",
   "metadata": {},
   "source": [
    "# 2 making mol csv in mapping folder"
   ]
  },
  {
   "cell_type": "code",
   "execution_count": 49,
   "id": "rapid-toddler",
   "metadata": {},
   "outputs": [],
   "source": [
    "mol = pd.DataFrame(columns=['subject_id'])"
   ]
  },
  {
   "cell_type": "code",
   "execution_count": 40,
   "id": "dying-layer",
   "metadata": {},
   "outputs": [],
   "source": [
    "data_dir = '/home/ubuntu/Stella/MLVU multimodality/final_structural_graph'"
   ]
  },
  {
   "cell_type": "code",
   "execution_count": 41,
   "id": "consistent-helen",
   "metadata": {},
   "outputs": [],
   "source": [
    "targ_folder = os.listdir(data_dir)"
   ]
  },
  {
   "cell_type": "code",
   "execution_count": 44,
   "id": "static-substance",
   "metadata": {},
   "outputs": [],
   "source": [
    "graph_list=list(targ_folder)"
   ]
  },
  {
   "cell_type": "code",
   "execution_count": 50,
   "id": "atlantic-silver",
   "metadata": {},
   "outputs": [],
   "source": [
    "for i in range(len(graph_list)):\n",
    "    data = os.path.join(data_dir, graph_list[i])\n",
    "    subject_id_score = graph_list[i].split('_')[2].split('.')[0]\n",
    "    mol = mol.append(pd.DataFrame([subject_id_score], columns=['subject_id']),\n",
    "                                 ignore_index=True)\n",
    "# save files    \n",
    "mol.to_csv('mol.csv', index=True)"
   ]
  },
  {
   "cell_type": "code",
   "execution_count": null,
   "id": "considerable-native",
   "metadata": {},
   "outputs": [],
   "source": []
  }
 ],
 "metadata": {
  "kernelspec": {
   "display_name": "Python 3",
   "language": "python",
   "name": "python3"
  },
  "language_info": {
   "codemirror_mode": {
    "name": "ipython",
    "version": 3
   },
   "file_extension": ".py",
   "mimetype": "text/x-python",
   "name": "python",
   "nbconvert_exporter": "python",
   "pygments_lexer": "ipython3",
   "version": "3.7.9"
  }
 },
 "nbformat": 4,
 "nbformat_minor": 5
}
